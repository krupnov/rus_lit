{
 "cells": [
  {
   "cell_type": "code",
   "execution_count": 2,
   "metadata": {},
   "outputs": [],
   "source": [
    "def char2num(sym):\n",
    "    if sym == ' ':\n",
    "        return 2000\n",
    "    return int.from_bytes(sym.encode('utf8'), byteorder='big') - int.from_bytes('а'.encode('utf8'), byteorder='big')\n",
    "\n",
    "def num2char(num):\n",
    "    if num == 2000:\n",
    "        return ' '\n",
    "    return (int.from_bytes('а'.encode('utf8'), byteorder='big') + num).to_bytes(2, byteorder='big').decode('utf8')"
   ]
  },
  {
   "cell_type": "code",
   "execution_count": 14,
   "metadata": {},
   "outputs": [],
   "source": [
    "data_file_name = '/home/ilya/Documents/git/rus_lit/data_converters/converted'\n",
    "\n",
    "with open(data_file_name, 'r') as f:\n",
    "    data = f.readlines()\n",
    "\n",
    "data = [s.strip() for s in data]"
   ]
  },
  {
   "cell_type": "code",
   "execution_count": 5,
   "metadata": {},
   "outputs": [
    {
     "name": "stdout",
     "output_type": "stream",
     "text": [
      "9678\n"
     ]
    }
   ],
   "source": [
    "print(len(data))"
   ]
  },
  {
   "cell_type": "code",
   "execution_count": 6,
   "metadata": {},
   "outputs": [],
   "source": [
    "avg = sum([len(s) for s in data]) / len(data)"
   ]
  },
  {
   "cell_type": "code",
   "execution_count": 15,
   "metadata": {},
   "outputs": [
    {
     "name": "stdout",
     "output_type": "stream",
     "text": [
      "53.57170903079149\n",
      "762\n"
     ]
    },
    {
     "data": {
      "text/plain": [
       "'году августа дня служивший в то время в наместническом правлении провинциальным секретарем купил из дворян у канцеляриста фадея егорова сына спицына имение состоящее округи в помянутом сельце кистеневке которое селение тогда по ревизии называлось кистеневскими выселками всего значащихся по й ревизии мужеска пола душ со всем их крестьянским имуществом усадьбою с пашенною и непашенною землею лесами сенными покосы рыбными ловли по речке называемой кистеневке и со всеми принадлежащими к оному имению угодьями и господским деревянным домом и словом всё без остатка что ему после отца его из дворян урядника егора терентьева сына спицына по наследству досталось и во владении его было не оставляя из людей ни единыя души а из земли ни единого четверика ценою за р'"
      ]
     },
     "execution_count": 15,
     "metadata": {},
     "output_type": "execute_result"
    }
   ],
   "source": [
    "print(avg)\n",
    "lengths = list([len(s) for s in data])\n",
    "max_len = max(lengths)\n",
    "print(max_len)\n",
    "data[lengths.index(max_len)]"
   ]
  },
  {
   "cell_type": "code",
   "execution_count": 16,
   "metadata": {},
   "outputs": [
    {
     "data": {
      "text/plain": [
       "(array([3.900e+02, 1.137e+03, 1.182e+03, 1.252e+03, 7.950e+02, 7.000e+02,\n",
       "        8.300e+02, 4.430e+02, 4.080e+02, 4.030e+02, 3.050e+02, 2.970e+02,\n",
       "        2.480e+02, 2.400e+02, 1.660e+02, 1.270e+02, 1.380e+02, 8.200e+01,\n",
       "        8.400e+01, 7.700e+01, 5.300e+01, 4.900e+01, 4.300e+01, 2.800e+01,\n",
       "        2.000e+01, 2.800e+01, 2.400e+01, 1.700e+01, 2.200e+01, 1.000e+01,\n",
       "        1.400e+01, 1.200e+01, 5.000e+00, 9.000e+00, 8.000e+00, 3.000e+00,\n",
       "        2.000e+00, 3.000e+00, 3.000e+00, 1.000e+00, 3.000e+00, 3.000e+00,\n",
       "        1.000e+00, 0.000e+00, 0.000e+00, 1.000e+00, 0.000e+00, 2.000e+00,\n",
       "        0.000e+00, 0.000e+00, 0.000e+00, 0.000e+00, 1.000e+00, 0.000e+00,\n",
       "        0.000e+00, 0.000e+00, 0.000e+00, 0.000e+00, 0.000e+00, 0.000e+00,\n",
       "        0.000e+00, 2.000e+00, 0.000e+00, 0.000e+00, 1.000e+00, 0.000e+00,\n",
       "        1.000e+00, 0.000e+00, 1.000e+00, 0.000e+00, 0.000e+00, 1.000e+00,\n",
       "        1.000e+00, 0.000e+00, 0.000e+00, 0.000e+00, 0.000e+00, 1.000e+00,\n",
       "        0.000e+00, 0.000e+00, 0.000e+00, 0.000e+00, 0.000e+00, 0.000e+00,\n",
       "        0.000e+00, 0.000e+00, 0.000e+00, 0.000e+00, 0.000e+00, 0.000e+00,\n",
       "        0.000e+00, 0.000e+00, 0.000e+00, 0.000e+00, 0.000e+00, 0.000e+00,\n",
       "        0.000e+00, 0.000e+00, 0.000e+00, 1.000e+00]),\n",
       " array([  1.  ,   8.61,  16.22,  23.83,  31.44,  39.05,  46.66,  54.27,\n",
       "         61.88,  69.49,  77.1 ,  84.71,  92.32,  99.93, 107.54, 115.15,\n",
       "        122.76, 130.37, 137.98, 145.59, 153.2 , 160.81, 168.42, 176.03,\n",
       "        183.64, 191.25, 198.86, 206.47, 214.08, 221.69, 229.3 , 236.91,\n",
       "        244.52, 252.13, 259.74, 267.35, 274.96, 282.57, 290.18, 297.79,\n",
       "        305.4 , 313.01, 320.62, 328.23, 335.84, 343.45, 351.06, 358.67,\n",
       "        366.28, 373.89, 381.5 , 389.11, 396.72, 404.33, 411.94, 419.55,\n",
       "        427.16, 434.77, 442.38, 449.99, 457.6 , 465.21, 472.82, 480.43,\n",
       "        488.04, 495.65, 503.26, 510.87, 518.48, 526.09, 533.7 , 541.31,\n",
       "        548.92, 556.53, 564.14, 571.75, 579.36, 586.97, 594.58, 602.19,\n",
       "        609.8 , 617.41, 625.02, 632.63, 640.24, 647.85, 655.46, 663.07,\n",
       "        670.68, 678.29, 685.9 , 693.51, 701.12, 708.73, 716.34, 723.95,\n",
       "        731.56, 739.17, 746.78, 754.39, 762.  ]),\n",
       " <a list of 100 Patch objects>)"
      ]
     },
     "execution_count": 16,
     "metadata": {},
     "output_type": "execute_result"
    },
    {
     "data": {
      "image/png": "[encoded data removed]",
      "text/plain": [
       "<Figure size 432x288 with 1 Axes>"
      ]
     },
     "metadata": {
      "needs_background": "light"
     },
     "output_type": "display_data"
    }
   ],
   "source": [
    "from matplotlib import pyplot as plt\n",
    "%matplotlib inline\n",
    "plt.hist([len(s) for s in data], 100)"
   ]
  },
  {
   "cell_type": "code",
   "execution_count": 23,
   "metadata": {},
   "outputs": [
    {
     "name": "stdout",
     "output_type": "stream",
     "text": [
      "1999\n"
     ]
    }
   ],
   "source": [
    "print(len([s for s in data if len(s) < 20]))"
   ]
  },
  {
   "cell_type": "code",
   "execution_count": null,
   "metadata": {},
   "outputs": [],
   "source": []
  }
 ],
 "metadata": {
  "kernelspec": {
   "display_name": "myenv",
   "language": "python",
   "name": "myenv"
  },
  "language_info": {
   "codemirror_mode": {
    "name": "ipython",
    "version": 3
   },
   "file_extension": ".py",
   "mimetype": "text/x-python",
   "name": "python",
   "nbconvert_exporter": "python",
   "pygments_lexer": "ipython3",
   "version": "3.7.3"
  }
 },
 "nbformat": 4,
 "nbformat_minor": 2
}
